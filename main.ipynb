{
 "cells": [
  {
   "cell_type": "markdown",
   "metadata": {},
   "source": [
    "#### Speaker Change Detection Using F0 and MFCC Features with the IEMOCAP Dataset \n",
    " \n",
    "This is a Malay word prediction assignment, where given n previous Malay words (wordi+1 , \n",
    "wordi+2, wordi+n), you are required to predict wordn+1. Train a deep learning neural network to \n",
    "perform the task using the training and validation data. Evaluate the accuracy of your model \n",
    "using the test data."
   ]
  },
  {
   "cell_type": "markdown",
   "metadata": {
    "vscode": {
     "languageId": "plaintext"
    }
   },
   "source": [
    "Objectives<br>\n",
    "O1: Construct natural language processing and deep learning components in problems \n",
    "involving prediction, classification and sequence modeling in text and speech. <br>\n",
    "O2: Design solutions using natural language processing and deep learning techniques for \n",
    "problems in text and speech analytics. "
   ]
  },
  {
   "cell_type": "markdown",
   "metadata": {},
   "source": [
    "#### 1. Understanding the Dataset\n",
    "• Task: Familiarize yourself with the IEMOCAP dataset, focusing on its dialog sessions, \n",
    "speaker labels, and audio features. "
   ]
  },
  {
   "cell_type": "markdown",
   "metadata": {},
   "source": [
    "#### 2. Feature Extraction \n",
    "• Task: Extract the following features for audio segmentation: <br>\n",
    "    1. Fundamental Frequency (F0): Represents the pitch. <br>\n",
    "    2. MFCC Features: Capture the spectral properties of speech.<br> <br>\n",
    "• Use a sliding window (e.g., 20ms frames with 10ms overlap) for feature extraction.<br> \n",
    "• Tools: Use libraries like librosa or praat-parselmouth. <br>\n",
    "• Deliverable: <br>\n",
    "    - Python notebook scripts for feature extraction.<br> \n",
    "    - A visualization of the extracted features for a sample audio file (e.g., plot MFCCs and F0 over time). "
   ]
  },
  {
   "cell_type": "code",
   "execution_count": 1,
   "metadata": {},
   "outputs": [],
   "source": [
    "import numpy as np\n",
    "import matplotlib.pyplot as plt\n",
    "import librosa\n",
    "import librosa.display\n",
    "import parselmouth\n",
    "\n",
    "# Load the Audio File   \n",
    "audio_path = \"IEMOCAP\\IEMOCAP\\Session1\\dialog\\wav\\Ses01F_impro01.wav\"\n",
    "y, sr = librosa.load(audio_path, sr=None)"
   ]
  },
  {
   "cell_type": "code",
   "execution_count": null,
   "metadata": {},
   "outputs": [],
   "source": [
    "# parameters\n",
    "frame_length = int(0.02 * sr)  # 20ms\n",
    "hop_length = int(0.01 * sr)    # 10ms\n",
    "n_fft = 2048                   # FFT window length\n",
    "n_mels = 40                    # Number of Mel bands\n",
    "fmax = sr / 2                  # Max frequency\n",
    "\n",
    "# extact mfcc Features\n",
    "mfccs = librosa.feature.mfcc(y=y, sr=sr, n_mfcc=13, n_fft=n_fft, hop_length=hop_length, n_mels=n_mels, fmax=fmax)\n",
    "\n",
    "# Plot MFCCs\n",
    "plt.figure(figsize=(10, 4))\n",
    "librosa.display.specshow(mfccs, sr=sr, hop_length=hop_length, x_axis='time', cmap='viridis')\n",
    "plt.colorbar(format='%+2.0f dB')\n",
    "plt.title('MFCC over time')\n",
    "plt.show()"
   ]
  },
  {
   "cell_type": "code",
   "execution_count": null,
   "metadata": {},
   "outputs": [],
   "source": [
    "# Extract Fundamental Frequency (F0)\n",
    "sound = parselmouth.Sound(audio_path)\n",
    "pitch = sound.to_pitch(time_step=hop_length/sr)\n",
    "f0_values = pitch.selected_array['frequency']\n",
    "\n",
    "# Plot F0 over time\n",
    "# Time axis for plotting\n",
    "times = librosa.times_like(mfccs[0], sr=sr, hop_length=hop_length)\n",
    "\n",
    "# debug (ensure f0_values and mfccs are the same size)\n",
    "times = np.linspace(0, len(y)/sr, len(f0_values))\n",
    "\n",
    "plt.figure(figsize=(14, 8))\n",
    "\n",
    "# Plot F0\n",
    "plt.plot(times, f0_values, label='F0 (Hz)', color='b')\n",
    "plt.xlabel('Time (s)')\n",
    "plt.ylabel('Frequency (Hz)')\n",
    "plt.title('Fundamental Frequency (F0) over time')\n",
    "plt.legend()\n",
    "\n",
    "plt.tight_layout()\n",
    "plt.show()\n"
   ]
  },
  {
   "cell_type": "code",
   "execution_count": null,
   "metadata": {},
   "outputs": [],
   "source": []
  },
  {
   "cell_type": "markdown",
   "metadata": {},
   "source": [
    "### 3. Data Preprocessing \n",
    "• Task: <br>\n",
    "o Label data for speaker changes (binary labels: 1 for change, 0 for no change). <br>\n",
    "• Divide the data into train (session 1-3), validation (session 4), and test (session 5) sets.<br> \n",
    "• Deliverable:<br> \n",
    "o A Python notebook or script detailing preprocessing steps. "
   ]
  },
  {
   "cell_type": "code",
   "execution_count": 5,
   "metadata": {},
   "outputs": [],
   "source": [
    "# Code"
   ]
  },
  {
   "cell_type": "markdown",
   "metadata": {},
   "source": [
    "### 4. Model Development \n",
    "• Task: <br>\n",
    "o Train a machine learning model to classify speaker changes. <br>\n",
    "o Experiment with different window sizes or time-lagged parameters for better \n",
    "performance. <br>\n",
    "o Evaluate performance using metrics such as F1-score, precision, and recall.<br> \n",
    "• Deliverable: <br>\n",
    "o Model training scripts.<br> \n",
    "o A summary of model architecture and parameters.<br> \n",
    "o Plots showing training and validation accuracy/loss curves.<br> "
   ]
  },
  {
   "cell_type": "code",
   "execution_count": 6,
   "metadata": {},
   "outputs": [],
   "source": [
    "# Code"
   ]
  },
  {
   "cell_type": "markdown",
   "metadata": {},
   "source": [
    "### 5. Results and Discussion \n",
    "• Task: <br>\n",
    "o Test the model on unseen data.<br> \n",
    "o Analyze the model with different window sizes and time-lagged parameters.<br> \n",
    "o Analyze model performance at detecting speaker change points, discussing\n",
    "strengths and weaknesses. <br>\n",
    "• Deliverable: <br>\n",
    "o A brief report discussing results and suggestions for improvement. <br>"
   ]
  },
  {
   "cell_type": "code",
   "execution_count": 7,
   "metadata": {},
   "outputs": [],
   "source": [
    "# Code"
   ]
  }
 ],
 "metadata": {
  "kernelspec": {
   "display_name": "cpc353",
   "language": "python",
   "name": "python3"
  },
  "language_info": {
   "codemirror_mode": {
    "name": "ipython",
    "version": 3
   },
   "file_extension": ".py",
   "mimetype": "text/x-python",
   "name": "python",
   "nbconvert_exporter": "python",
   "pygments_lexer": "ipython3",
   "version": "3.8.20"
  }
 },
 "nbformat": 4,
 "nbformat_minor": 2
}
