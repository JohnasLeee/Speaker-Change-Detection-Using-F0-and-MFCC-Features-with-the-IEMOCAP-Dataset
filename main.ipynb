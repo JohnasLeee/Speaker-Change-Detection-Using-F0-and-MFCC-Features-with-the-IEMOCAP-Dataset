{
 "cells": [
  {
   "cell_type": "markdown",
   "metadata": {},
   "source": [
    "#### Speaker Change Detection Using F0 and MFCC Features with the IEMOCAP Dataset \n",
    " \n",
    "This is a Malay word prediction assignment, where given n previous Malay words (wordi+1 , \n",
    "wordi+2, wordi+n), you are required to predict wordn+1. Train a deep learning neural network to \n",
    "perform the task using the training and validation data. Evaluate the accuracy of your model \n",
    "using the test data."
   ]
  },
  {
   "cell_type": "markdown",
   "metadata": {
    "vscode": {
     "languageId": "plaintext"
    }
   },
   "source": [
    "Objectives<br>\n",
    "O1: Construct natural language processing and deep learning components in problems \n",
    "involving prediction, classification and sequence modeling in text and speech. <br>\n",
    "O2: Design solutions using natural language processing and deep learning techniques for \n",
    "problems in text and speech analytics. "
   ]
  },
  {
   "cell_type": "markdown",
   "metadata": {},
   "source": [
    "#### 1. Understanding the Dataset\n",
    "• Task: Familiarize yourself with the IEMOCAP dataset, focusing on its dialog sessions, \n",
    "speaker labels, and audio features. "
   ]
  },
  {
   "cell_type": "code",
   "execution_count": null,
   "metadata": {
    "vscode": {
     "languageId": "plaintext"
    }
   },
   "outputs": [],
   "source": [
    "# Code"
   ]
  },
  {
   "cell_type": "markdown",
   "metadata": {},
   "source": [
    "#### 2. Feature Extraction \n",
    "• Task: Extract the following features for audio segmentation: <br>\n",
    "    1. Fundamental Frequency (F0): Represents the pitch. <br>\n",
    "    2. MFCC Features: Capture the spectral properties of speech.<br> <br>\n",
    "• Use a sliding window (e.g., 20ms frames with 10ms overlap) for feature extraction.<br> \n",
    "• Tools: Use libraries like librosa or praat-parselmouth. <br>\n",
    "• Deliverable: <br>\n",
    "    - Python notebook scripts for feature extraction.<br> \n",
    "    - A visualization of the extracted features for a sample audio file (e.g., plot MFCCs and F0 over time). "
   ]
  },
  {
   "cell_type": "code",
   "execution_count": null,
   "metadata": {
    "vscode": {
     "languageId": "plaintext"
    }
   },
   "outputs": [],
   "source": [
    "# Code"
   ]
  },
  {
   "cell_type": "markdown",
   "metadata": {},
   "source": [
    "### 3. Data Preprocessing \n",
    "• Task: <br>\n",
    "o Label data for speaker changes (binary labels: 1 for change, 0 for no change). <br>\n",
    "• Divide the data into train (session 1-3), validation (session 4), and test (session 5) sets.<br> \n",
    "• Deliverable:<br> \n",
    "o A Python notebook or script detailing preprocessing steps. "
   ]
  },
  {
   "cell_type": "code",
   "execution_count": null,
   "metadata": {
    "vscode": {
     "languageId": "plaintext"
    }
   },
   "outputs": [],
   "source": [
    "# Code"
   ]
  },
  {
   "cell_type": "markdown",
   "metadata": {},
   "source": [
    "### 4. Model Development \n",
    "• Task: <br>\n",
    "o Train a machine learning model to classify speaker changes. <br>\n",
    "o Experiment with different window sizes or time-lagged parameters for better \n",
    "performance. <br>\n",
    "o Evaluate performance using metrics such as F1-score, precision, and recall.<br> \n",
    "• Deliverable: <br>\n",
    "o Model training scripts.<br> \n",
    "o A summary of model architecture and parameters.<br> \n",
    "o Plots showing training and validation accuracy/loss curves.<br> "
   ]
  },
  {
   "cell_type": "code",
   "execution_count": null,
   "metadata": {
    "vscode": {
     "languageId": "plaintext"
    }
   },
   "outputs": [],
   "source": [
    "# Code"
   ]
  },
  {
   "cell_type": "markdown",
   "metadata": {},
   "source": [
    "### 5. Results and Discussion \n",
    "• Task: <br>\n",
    "o Test the model on unseen data.<br> \n",
    "o Analyze the model with different window sizes and time-lagged parameters.<br> \n",
    "o Analyze model performance at detecting speaker change points, discussing\n",
    "strengths and weaknesses. <br>\n",
    "• Deliverable: <br>\n",
    "o A brief report discussing results and suggestions for improvement. <br>"
   ]
  },
  {
   "cell_type": "code",
   "execution_count": null,
   "metadata": {
    "vscode": {
     "languageId": "plaintext"
    }
   },
   "outputs": [],
   "source": [
    "# Code"
   ]
  }
 ],
 "metadata": {
  "language_info": {
   "name": "python"
  }
 },
 "nbformat": 4,
 "nbformat_minor": 2
}
